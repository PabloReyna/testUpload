{
 "cells": [
  {
   "cell_type": "markdown",
   "id": "95094ea5",
   "metadata": {},
   "source": [
    "# Data Science Tools and Ecosystem"
   ]
  },
  {
   "cell_type": "markdown",
   "id": "14d9e0b1",
   "metadata": {},
   "source": [
    "In this notebook, Data Science Tools and Ecosystem are summarized."
   ]
  },
  {
   "cell_type": "markdown",
   "id": "076ad410",
   "metadata": {},
   "source": [
    "__Some of the popular languages that Data Scientists use are:__\n",
    "1. Python\n",
    "2. R\n",
    "3. SQL\n",
    "4. Stata"
   ]
  },
  {
   "cell_type": "markdown",
   "id": "b242874c",
   "metadata": {},
   "source": [
    "__Some of the commonly used libraries used by Data Scientists include:__\n",
    "1. Pandas\n",
    "2. Numpy\n",
    "3. scikit-learn\n",
    "4. Matplotlib"
   ]
  },
  {
   "cell_type": "markdown",
   "id": "87f82c77",
   "metadata": {},
   "source": [
    "__Data Science Tools__\n",
    "\n",
    "| Data Science Tools |\n",
    "|-------------------|\n",
    "|Visual Studio Code|\n",
    "|Jupyter Notebooks|\n",
    "|R-Studio|"
   ]
  },
  {
   "cell_type": "markdown",
   "id": "a9cebe19",
   "metadata": {},
   "source": [
    "### Below are a few examples of evaluating arithmetic expressions in Python"
   ]
  },
  {
   "cell_type": "code",
   "execution_count": 2,
   "id": "68cfdcf6",
   "metadata": {},
   "outputs": [
    {
     "name": "stdout",
     "output_type": "stream",
     "text": [
      "17\n"
     ]
    }
   ],
   "source": [
    "# This a simple arithmetic expression to mutiply then add integers.\n",
    "expression = (3*4)+5\n",
    "print(expression)"
   ]
  },
  {
   "cell_type": "code",
   "execution_count": 3,
   "id": "2685b262",
   "metadata": {},
   "outputs": [
    {
     "name": "stdout",
     "output_type": "stream",
     "text": [
      "33.333333333333336\n"
     ]
    }
   ],
   "source": [
    "# This will convert 200 minutes to hours by diving by 60.\n",
    "minTohour = 200 / 6\n",
    "print(minTohour)"
   ]
  },
  {
   "cell_type": "markdown",
   "id": "24b97d78",
   "metadata": {},
   "source": [
    "__Objectives:__\n",
    "* List data science tools\n",
    "* Interact with Jupyter Notebooks\n",
    "* Use Github"
   ]
  },
  {
   "cell_type": "markdown",
   "id": "a3202869",
   "metadata": {},
   "source": [
    "## Author\n",
    "AL."
   ]
  },
  {
   "cell_type": "code",
   "execution_count": null,
   "id": "5e64e8ff",
   "metadata": {},
   "outputs": [],
   "source": []
  }
 ],
 "metadata": {
  "kernelspec": {
   "display_name": "Python 3 (ipykernel)",
   "language": "python",
   "name": "python3"
  },
  "language_info": {
   "codemirror_mode": {
    "name": "ipython",
    "version": 3
   },
   "file_extension": ".py",
   "mimetype": "text/x-python",
   "name": "python",
   "nbconvert_exporter": "python",
   "pygments_lexer": "ipython3",
   "version": "3.9.13"
  }
 },
 "nbformat": 4,
 "nbformat_minor": 5
}
